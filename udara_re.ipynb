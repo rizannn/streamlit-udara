{
 "cells": [
  {
   "attachments": {},
   "cell_type": "markdown",
   "metadata": {},
   "source": [
    "# Import"
   ]
  },
  {
   "cell_type": "code",
   "execution_count": 20,
   "metadata": {},
   "outputs": [],
   "source": [
    "import numpy as np\n",
    "import pandas as pd\n",
    "from sklearn.model_selection import train_test_split\n",
    "from sklearn import svm\n",
    "from sklearn.metrics import accuracy_score"
   ]
  },
  {
   "attachments": {},
   "cell_type": "markdown",
   "metadata": {},
   "source": [
    "# Load Dataset"
   ]
  },
  {
   "cell_type": "code",
   "execution_count": 7,
   "metadata": {},
   "outputs": [
    {
     "data": {
      "text/html": [
       "<div>\n",
       "<style scoped>\n",
       "    .dataframe tbody tr th:only-of-type {\n",
       "        vertical-align: middle;\n",
       "    }\n",
       "\n",
       "    .dataframe tbody tr th {\n",
       "        vertical-align: top;\n",
       "    }\n",
       "\n",
       "    .dataframe thead th {\n",
       "        text-align: right;\n",
       "    }\n",
       "</style>\n",
       "<table border=\"1\" class=\"dataframe\">\n",
       "  <thead>\n",
       "    <tr style=\"text-align: right;\">\n",
       "      <th></th>\n",
       "      <th>tanggal</th>\n",
       "      <th>pm10</th>\n",
       "      <th>pm25</th>\n",
       "      <th>so2</th>\n",
       "      <th>co</th>\n",
       "      <th>1</th>\n",
       "      <th>no2</th>\n",
       "      <th>max</th>\n",
       "      <th>critical</th>\n",
       "      <th>categori</th>\n",
       "      <th>location</th>\n",
       "    </tr>\n",
       "  </thead>\n",
       "  <tbody>\n",
       "    <tr>\n",
       "      <th>0</th>\n",
       "      <td>1/1/2021</td>\n",
       "      <td>43</td>\n",
       "      <td>NaN</td>\n",
       "      <td>58</td>\n",
       "      <td>29</td>\n",
       "      <td>35</td>\n",
       "      <td>65</td>\n",
       "      <td>65</td>\n",
       "      <td>1</td>\n",
       "      <td>1</td>\n",
       "      <td>DKI2</td>\n",
       "    </tr>\n",
       "    <tr>\n",
       "      <th>1</th>\n",
       "      <td>1/2/2021</td>\n",
       "      <td>58</td>\n",
       "      <td>NaN</td>\n",
       "      <td>86</td>\n",
       "      <td>38</td>\n",
       "      <td>64</td>\n",
       "      <td>80</td>\n",
       "      <td>86</td>\n",
       "      <td>2</td>\n",
       "      <td>1</td>\n",
       "      <td>DKI3</td>\n",
       "    </tr>\n",
       "    <tr>\n",
       "      <th>2</th>\n",
       "      <td>1/3/2021</td>\n",
       "      <td>64</td>\n",
       "      <td>NaN</td>\n",
       "      <td>93</td>\n",
       "      <td>25</td>\n",
       "      <td>62</td>\n",
       "      <td>86</td>\n",
       "      <td>93</td>\n",
       "      <td>2</td>\n",
       "      <td>1</td>\n",
       "      <td>DKI3</td>\n",
       "    </tr>\n",
       "    <tr>\n",
       "      <th>3</th>\n",
       "      <td>1/4/2021</td>\n",
       "      <td>50</td>\n",
       "      <td>NaN</td>\n",
       "      <td>67</td>\n",
       "      <td>24</td>\n",
       "      <td>31</td>\n",
       "      <td>77</td>\n",
       "      <td>77</td>\n",
       "      <td>1</td>\n",
       "      <td>1</td>\n",
       "      <td>DKI2</td>\n",
       "    </tr>\n",
       "    <tr>\n",
       "      <th>4</th>\n",
       "      <td>1/5/2021</td>\n",
       "      <td>59</td>\n",
       "      <td>NaN</td>\n",
       "      <td>89</td>\n",
       "      <td>24</td>\n",
       "      <td>35</td>\n",
       "      <td>77</td>\n",
       "      <td>89</td>\n",
       "      <td>2</td>\n",
       "      <td>1</td>\n",
       "      <td>DKI3</td>\n",
       "    </tr>\n",
       "  </tbody>\n",
       "</table>\n",
       "</div>"
      ],
      "text/plain": [
       "    tanggal  pm10  pm25  so2  co   1  no2  max critical  categori location\n",
       "0  1/1/2021    43   NaN   58  29  35   65   65        1         1     DKI2\n",
       "1  1/2/2021    58   NaN   86  38  64   80   86        2         1     DKI3\n",
       "2  1/3/2021    64   NaN   93  25  62   86   93        2         1     DKI3\n",
       "3  1/4/2021    50   NaN   67  24  31   77   77        1         1     DKI2\n",
       "4  1/5/2021    59   NaN   89  24  35   77   89        2         1     DKI3"
      ]
     },
     "execution_count": 7,
     "metadata": {},
     "output_type": "execute_result"
    }
   ],
   "source": [
    "data = pd.read_csv('Indeks Standar Pencemar Udara.csv')\n",
    "\n",
    "data.head()"
   ]
  },
  {
   "attachments": {},
   "cell_type": "markdown",
   "metadata": {},
   "source": [
    "# Selection"
   ]
  },
  {
   "cell_type": "code",
   "execution_count": 8,
   "metadata": {},
   "outputs": [
    {
     "data": {
      "text/html": [
       "<div>\n",
       "<style scoped>\n",
       "    .dataframe tbody tr th:only-of-type {\n",
       "        vertical-align: middle;\n",
       "    }\n",
       "\n",
       "    .dataframe tbody tr th {\n",
       "        vertical-align: top;\n",
       "    }\n",
       "\n",
       "    .dataframe thead th {\n",
       "        text-align: right;\n",
       "    }\n",
       "</style>\n",
       "<table border=\"1\" class=\"dataframe\">\n",
       "  <thead>\n",
       "    <tr style=\"text-align: right;\">\n",
       "      <th></th>\n",
       "      <th>pm10</th>\n",
       "      <th>pm25</th>\n",
       "      <th>so2</th>\n",
       "      <th>co</th>\n",
       "      <th>1</th>\n",
       "      <th>no2</th>\n",
       "      <th>max</th>\n",
       "      <th>categori</th>\n",
       "    </tr>\n",
       "  </thead>\n",
       "  <tbody>\n",
       "    <tr>\n",
       "      <th>0</th>\n",
       "      <td>43</td>\n",
       "      <td>NaN</td>\n",
       "      <td>58</td>\n",
       "      <td>29</td>\n",
       "      <td>35</td>\n",
       "      <td>65</td>\n",
       "      <td>65</td>\n",
       "      <td>1</td>\n",
       "    </tr>\n",
       "    <tr>\n",
       "      <th>1</th>\n",
       "      <td>58</td>\n",
       "      <td>NaN</td>\n",
       "      <td>86</td>\n",
       "      <td>38</td>\n",
       "      <td>64</td>\n",
       "      <td>80</td>\n",
       "      <td>86</td>\n",
       "      <td>1</td>\n",
       "    </tr>\n",
       "    <tr>\n",
       "      <th>2</th>\n",
       "      <td>64</td>\n",
       "      <td>NaN</td>\n",
       "      <td>93</td>\n",
       "      <td>25</td>\n",
       "      <td>62</td>\n",
       "      <td>86</td>\n",
       "      <td>93</td>\n",
       "      <td>1</td>\n",
       "    </tr>\n",
       "    <tr>\n",
       "      <th>3</th>\n",
       "      <td>50</td>\n",
       "      <td>NaN</td>\n",
       "      <td>67</td>\n",
       "      <td>24</td>\n",
       "      <td>31</td>\n",
       "      <td>77</td>\n",
       "      <td>77</td>\n",
       "      <td>1</td>\n",
       "    </tr>\n",
       "    <tr>\n",
       "      <th>4</th>\n",
       "      <td>59</td>\n",
       "      <td>NaN</td>\n",
       "      <td>89</td>\n",
       "      <td>24</td>\n",
       "      <td>35</td>\n",
       "      <td>77</td>\n",
       "      <td>89</td>\n",
       "      <td>1</td>\n",
       "    </tr>\n",
       "  </tbody>\n",
       "</table>\n",
       "</div>"
      ],
      "text/plain": [
       "   pm10  pm25  so2  co   1  no2  max  categori\n",
       "0    43   NaN   58  29  35   65   65         1\n",
       "1    58   NaN   86  38  64   80   86         1\n",
       "2    64   NaN   93  25  62   86   93         1\n",
       "3    50   NaN   67  24  31   77   77         1\n",
       "4    59   NaN   89  24  35   77   89         1"
      ]
     },
     "execution_count": 8,
     "metadata": {},
     "output_type": "execute_result"
    }
   ],
   "source": [
    "# artibut yang dihilangkan adalah tanggal, stasiun dan critical\n",
    "\n",
    "data_selection = data.drop(columns=['tanggal','critical', 'location'])\n",
    "data_selection.head()"
   ]
  },
  {
   "attachments": {},
   "cell_type": "markdown",
   "metadata": {},
   "source": [
    "# Cleaning"
   ]
  },
  {
   "cell_type": "code",
   "execution_count": 9,
   "metadata": {},
   "outputs": [
    {
     "data": {
      "text/html": [
       "<div>\n",
       "<style scoped>\n",
       "    .dataframe tbody tr th:only-of-type {\n",
       "        vertical-align: middle;\n",
       "    }\n",
       "\n",
       "    .dataframe tbody tr th {\n",
       "        vertical-align: top;\n",
       "    }\n",
       "\n",
       "    .dataframe thead th {\n",
       "        text-align: right;\n",
       "    }\n",
       "</style>\n",
       "<table border=\"1\" class=\"dataframe\">\n",
       "  <thead>\n",
       "    <tr style=\"text-align: right;\">\n",
       "      <th></th>\n",
       "      <th>pm10</th>\n",
       "      <th>pm25</th>\n",
       "      <th>so2</th>\n",
       "      <th>co</th>\n",
       "      <th>1</th>\n",
       "      <th>no2</th>\n",
       "      <th>max</th>\n",
       "      <th>categori</th>\n",
       "    </tr>\n",
       "  </thead>\n",
       "  <tbody>\n",
       "    <tr>\n",
       "      <th>31</th>\n",
       "      <td>73</td>\n",
       "      <td>126.0</td>\n",
       "      <td>38</td>\n",
       "      <td>26</td>\n",
       "      <td>46</td>\n",
       "      <td>34</td>\n",
       "      <td>126</td>\n",
       "      <td>0</td>\n",
       "    </tr>\n",
       "    <tr>\n",
       "      <th>32</th>\n",
       "      <td>53</td>\n",
       "      <td>70.0</td>\n",
       "      <td>40</td>\n",
       "      <td>14</td>\n",
       "      <td>55</td>\n",
       "      <td>25</td>\n",
       "      <td>70</td>\n",
       "      <td>1</td>\n",
       "    </tr>\n",
       "    <tr>\n",
       "      <th>33</th>\n",
       "      <td>32</td>\n",
       "      <td>53.0</td>\n",
       "      <td>40</td>\n",
       "      <td>11</td>\n",
       "      <td>42</td>\n",
       "      <td>19</td>\n",
       "      <td>53</td>\n",
       "      <td>1</td>\n",
       "    </tr>\n",
       "    <tr>\n",
       "      <th>34</th>\n",
       "      <td>36</td>\n",
       "      <td>59.0</td>\n",
       "      <td>40</td>\n",
       "      <td>14</td>\n",
       "      <td>47</td>\n",
       "      <td>24</td>\n",
       "      <td>59</td>\n",
       "      <td>1</td>\n",
       "    </tr>\n",
       "    <tr>\n",
       "      <th>35</th>\n",
       "      <td>29</td>\n",
       "      <td>51.0</td>\n",
       "      <td>40</td>\n",
       "      <td>14</td>\n",
       "      <td>45</td>\n",
       "      <td>35</td>\n",
       "      <td>51</td>\n",
       "      <td>1</td>\n",
       "    </tr>\n",
       "  </tbody>\n",
       "</table>\n",
       "</div>"
      ],
      "text/plain": [
       "    pm10   pm25  so2  co   1  no2  max  categori\n",
       "31    73  126.0   38  26  46   34  126         0\n",
       "32    53   70.0   40  14  55   25   70         1\n",
       "33    32   53.0   40  11  42   19   53         1\n",
       "34    36   59.0   40  14  47   24   59         1\n",
       "35    29   51.0   40  14  45   35   51         1"
      ]
     },
     "execution_count": 9,
     "metadata": {},
     "output_type": "execute_result"
    }
   ],
   "source": [
    "# pembersihan data missing value\n",
    "\n",
    "data_cleaning = data_selection.dropna()\n",
    "data_cleaning.head()"
   ]
  },
  {
   "cell_type": "code",
   "execution_count": 10,
   "metadata": {},
   "outputs": [
    {
     "name": "stdout",
     "output_type": "stream",
     "text": [
      "<class 'pandas.core.frame.DataFrame'>\n",
      "Int64Index: 334 entries, 31 to 364\n",
      "Data columns (total 8 columns):\n",
      " #   Column    Non-Null Count  Dtype  \n",
      "---  ------    --------------  -----  \n",
      " 0   pm10      334 non-null    int64  \n",
      " 1   pm25      334 non-null    float64\n",
      " 2   so2       334 non-null    int64  \n",
      " 3   co        334 non-null    int64  \n",
      " 4   1         334 non-null    int64  \n",
      " 5   no2       334 non-null    int64  \n",
      " 6   max       334 non-null    int64  \n",
      " 7   categori  334 non-null    int64  \n",
      "dtypes: float64(1), int64(7)\n",
      "memory usage: 23.5 KB\n"
     ]
    }
   ],
   "source": [
    "data_cleaning.info()"
   ]
  },
  {
   "attachments": {},
   "cell_type": "markdown",
   "metadata": {},
   "source": [
    "# Ganti Type Data"
   ]
  },
  {
   "cell_type": "code",
   "execution_count": 12,
   "metadata": {},
   "outputs": [
    {
     "name": "stdout",
     "output_type": "stream",
     "text": [
      "<class 'pandas.core.frame.DataFrame'>\n",
      "Int64Index: 334 entries, 31 to 364\n",
      "Data columns (total 8 columns):\n",
      " #   Column    Non-Null Count  Dtype\n",
      "---  ------    --------------  -----\n",
      " 0   pm10      334 non-null    int64\n",
      " 1   pm25      334 non-null    int32\n",
      " 2   so2       334 non-null    int64\n",
      " 3   co        334 non-null    int64\n",
      " 4   1         334 non-null    int64\n",
      " 5   no2       334 non-null    int64\n",
      " 6   max       334 non-null    int64\n",
      " 7   categori  334 non-null    int64\n",
      "dtypes: int32(1), int64(7)\n",
      "memory usage: 22.2 KB\n"
     ]
    }
   ],
   "source": [
    "data_type = data_cleaning.astype({\"pm25\": 'int'})\n",
    "data_type.info()"
   ]
  },
  {
   "cell_type": "code",
   "execution_count": 13,
   "metadata": {},
   "outputs": [
    {
     "data": {
      "text/html": [
       "<div>\n",
       "<style scoped>\n",
       "    .dataframe tbody tr th:only-of-type {\n",
       "        vertical-align: middle;\n",
       "    }\n",
       "\n",
       "    .dataframe tbody tr th {\n",
       "        vertical-align: top;\n",
       "    }\n",
       "\n",
       "    .dataframe thead th {\n",
       "        text-align: right;\n",
       "    }\n",
       "</style>\n",
       "<table border=\"1\" class=\"dataframe\">\n",
       "  <thead>\n",
       "    <tr style=\"text-align: right;\">\n",
       "      <th></th>\n",
       "      <th>pm10</th>\n",
       "      <th>pm25</th>\n",
       "      <th>so2</th>\n",
       "      <th>co</th>\n",
       "      <th>1</th>\n",
       "      <th>no2</th>\n",
       "      <th>max</th>\n",
       "      <th>categori</th>\n",
       "    </tr>\n",
       "  </thead>\n",
       "  <tbody>\n",
       "    <tr>\n",
       "      <th>31</th>\n",
       "      <td>73</td>\n",
       "      <td>126</td>\n",
       "      <td>38</td>\n",
       "      <td>26</td>\n",
       "      <td>46</td>\n",
       "      <td>34</td>\n",
       "      <td>126</td>\n",
       "      <td>0</td>\n",
       "    </tr>\n",
       "    <tr>\n",
       "      <th>32</th>\n",
       "      <td>53</td>\n",
       "      <td>70</td>\n",
       "      <td>40</td>\n",
       "      <td>14</td>\n",
       "      <td>55</td>\n",
       "      <td>25</td>\n",
       "      <td>70</td>\n",
       "      <td>1</td>\n",
       "    </tr>\n",
       "    <tr>\n",
       "      <th>33</th>\n",
       "      <td>32</td>\n",
       "      <td>53</td>\n",
       "      <td>40</td>\n",
       "      <td>11</td>\n",
       "      <td>42</td>\n",
       "      <td>19</td>\n",
       "      <td>53</td>\n",
       "      <td>1</td>\n",
       "    </tr>\n",
       "    <tr>\n",
       "      <th>34</th>\n",
       "      <td>36</td>\n",
       "      <td>59</td>\n",
       "      <td>40</td>\n",
       "      <td>14</td>\n",
       "      <td>47</td>\n",
       "      <td>24</td>\n",
       "      <td>59</td>\n",
       "      <td>1</td>\n",
       "    </tr>\n",
       "    <tr>\n",
       "      <th>35</th>\n",
       "      <td>29</td>\n",
       "      <td>51</td>\n",
       "      <td>40</td>\n",
       "      <td>14</td>\n",
       "      <td>45</td>\n",
       "      <td>35</td>\n",
       "      <td>51</td>\n",
       "      <td>1</td>\n",
       "    </tr>\n",
       "  </tbody>\n",
       "</table>\n",
       "</div>"
      ],
      "text/plain": [
       "    pm10  pm25  so2  co   1  no2  max  categori\n",
       "31    73   126   38  26  46   34  126         0\n",
       "32    53    70   40  14  55   25   70         1\n",
       "33    32    53   40  11  42   19   53         1\n",
       "34    36    59   40  14  47   24   59         1\n",
       "35    29    51   40  14  45   35   51         1"
      ]
     },
     "execution_count": 13,
     "metadata": {},
     "output_type": "execute_result"
    }
   ],
   "source": [
    "data_type.head()"
   ]
  },
  {
   "cell_type": "code",
   "execution_count": 14,
   "metadata": {},
   "outputs": [
    {
     "data": {
      "text/plain": [
       "1    195\n",
       "0    136\n",
       "2      3\n",
       "Name: categori, dtype: int64"
      ]
     },
     "execution_count": 14,
     "metadata": {},
     "output_type": "execute_result"
    }
   ],
   "source": [
    "data_type['categori'].value_counts()"
   ]
  },
  {
   "cell_type": "code",
   "execution_count": 15,
   "metadata": {},
   "outputs": [
    {
     "name": "stdout",
     "output_type": "stream",
     "text": [
      "     pm10  pm25  so2  co   1  no2  max\n",
      "31     73   126   38  26  46   34  126\n",
      "32     53    70   40  14  55   25   70\n",
      "33     32    53   40  11  42   19   53\n",
      "34     36    59   40  14  47   24   59\n",
      "35     29    51   40  14  45   35   51\n",
      "..    ...   ...  ...  ..  ..  ...  ...\n",
      "360    75   121   61  23  40   47  121\n",
      "361    59    89   53  16  34   33   89\n",
      "362    61    98   54  15  37   29   98\n",
      "363    60   102   53  17  38   44  102\n",
      "364    64    90   52  44  37   53   90\n",
      "\n",
      "[334 rows x 7 columns]\n"
     ]
    }
   ],
   "source": [
    "X = data_type.drop (columns='categori', axis=1)\n",
    "Y = data_type['categori']\n",
    "print(X)"
   ]
  },
  {
   "cell_type": "code",
   "execution_count": 16,
   "metadata": {},
   "outputs": [
    {
     "name": "stdout",
     "output_type": "stream",
     "text": [
      "31     0\n",
      "32     1\n",
      "33     1\n",
      "34     1\n",
      "35     1\n",
      "      ..\n",
      "360    0\n",
      "361    1\n",
      "362    1\n",
      "363    0\n",
      "364    1\n",
      "Name: categori, Length: 334, dtype: int64\n"
     ]
    }
   ],
   "source": [
    "print(Y)"
   ]
  },
  {
   "attachments": {},
   "cell_type": "markdown",
   "metadata": {},
   "source": [
    "# DATA TRAINING DAN DATA TESTING"
   ]
  },
  {
   "cell_type": "code",
   "execution_count": 17,
   "metadata": {},
   "outputs": [],
   "source": [
    "X_train, X_test, Y_train, Y_test = train_test_split(X, Y, test_size=0.2, stratify=Y, random_state=2)"
   ]
  },
  {
   "cell_type": "code",
   "execution_count": 18,
   "metadata": {},
   "outputs": [
    {
     "name": "stdout",
     "output_type": "stream",
     "text": [
      "(334, 7) (267, 7) (67, 7)\n"
     ]
    }
   ],
   "source": [
    "print(X.shape, X_train.shape, X_test.shape)"
   ]
  },
  {
   "attachments": {},
   "cell_type": "markdown",
   "metadata": {},
   "source": [
    "# MODEL TRAINING"
   ]
  },
  {
   "cell_type": "code",
   "execution_count": 21,
   "metadata": {},
   "outputs": [],
   "source": [
    "classifier = svm.SVC(kernel='linear')\n"
   ]
  },
  {
   "cell_type": "code",
   "execution_count": 22,
   "metadata": {},
   "outputs": [
    {
     "data": {
      "text/plain": [
       "SVC(kernel='linear')"
      ]
     },
     "execution_count": 22,
     "metadata": {},
     "output_type": "execute_result"
    }
   ],
   "source": [
    "classifier.fit(X_train, Y_train)"
   ]
  },
  {
   "attachments": {},
   "cell_type": "markdown",
   "metadata": {},
   "source": [
    "# EVALUASI TINGKAT AKURASI"
   ]
  },
  {
   "cell_type": "code",
   "execution_count": 24,
   "metadata": {},
   "outputs": [],
   "source": [
    "X_train_prediction = classifier.predict(X_train)\n",
    "training_data_accuracy = accuracy_score(X_train_prediction, Y_train)"
   ]
  },
  {
   "cell_type": "code",
   "execution_count": 25,
   "metadata": {},
   "outputs": [
    {
     "name": "stdout",
     "output_type": "stream",
     "text": [
      "Akurasi data training = 1.0\n"
     ]
    }
   ],
   "source": [
    "print('Akurasi data training =', training_data_accuracy)"
   ]
  },
  {
   "cell_type": "code",
   "execution_count": 27,
   "metadata": {},
   "outputs": [],
   "source": [
    "X_test_prediction = classifier.predict(X_test)\n",
    "test_data_accuracy = accuracy_score(X_test_prediction, Y_test)"
   ]
  },
  {
   "cell_type": "code",
   "execution_count": 28,
   "metadata": {},
   "outputs": [
    {
     "name": "stdout",
     "output_type": "stream",
     "text": [
      "Akurasi data testing = 1.0\n"
     ]
    }
   ],
   "source": [
    "print('Akurasi data testing =', training_data_accuracy)\n"
   ]
  },
  {
   "attachments": {},
   "cell_type": "markdown",
   "metadata": {},
   "source": [
    "# MODEL"
   ]
  },
  {
   "cell_type": "code",
   "execution_count": 35,
   "metadata": {},
   "outputs": [
    {
     "name": "stdout",
     "output_type": "stream",
     "text": [
      "[0]\n",
      "Tidak Baik\n"
     ]
    },
    {
     "name": "stderr",
     "output_type": "stream",
     "text": [
      "c:\\Users\\HP\\anaconda3\\lib\\site-packages\\sklearn\\base.py:450: UserWarning: X does not have valid feature names, but SVC was fitted with feature names\n",
      "  warnings.warn(\n"
     ]
    }
   ],
   "source": [
    "input_data = (73, 126, 38, 26, 46, 34, 126)\n",
    "\n",
    "input_data_as_numpy_array = np.array(input_data)\n",
    "\n",
    "input_data_reshape = input_data_as_numpy_array.reshape(1,-1)\n",
    "\n",
    "prediction = classifier.predict(input_data_reshape)\n",
    "print(prediction)\n",
    "\n",
    "if (prediction[0] == 0):\n",
    "    print('Tidak Baik')\n",
    "\n",
    "elif (prediction[0] == 1):\n",
    "    print('Sedang')\n",
    "\n",
    "else :\n",
    "    print('Baik')"
   ]
  },
  {
   "cell_type": "markdown",
   "metadata": {},
   "source": [
    "SIMPAN MODEL"
   ]
  },
  {
   "cell_type": "code",
   "execution_count": 38,
   "metadata": {},
   "outputs": [],
   "source": [
    "import pickle"
   ]
  },
  {
   "cell_type": "code",
   "execution_count": 39,
   "metadata": {},
   "outputs": [],
   "source": [
    "filename = 'resto_model.sav'\n",
    "pickle.dump(classifier, open(filename,'wb'))"
   ]
  }
 ],
 "metadata": {
  "kernelspec": {
   "display_name": "base",
   "language": "python",
   "name": "python3"
  },
  "language_info": {
   "codemirror_mode": {
    "name": "ipython",
    "version": 3
   },
   "file_extension": ".py",
   "mimetype": "text/x-python",
   "name": "python",
   "nbconvert_exporter": "python",
   "pygments_lexer": "ipython3",
   "version": "3.9.12 (main, Apr  4 2022, 05:22:27) [MSC v.1916 64 bit (AMD64)]"
  },
  "orig_nbformat": 4,
  "vscode": {
   "interpreter": {
    "hash": "dc07d24e2f18896857f0b2a651fe84ba40ce7b297e58d8804a308c8039f752a6"
   }
  }
 },
 "nbformat": 4,
 "nbformat_minor": 2
}
